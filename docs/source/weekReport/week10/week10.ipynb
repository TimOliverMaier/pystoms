{
 "cells": [
  {
   "cell_type": "markdown",
   "metadata": {},
   "source": [
    "# Week 10 \n"
   ]
  },
  {
   "cell_type": "raw",
   "metadata": {
    "raw_mimetype": "text/html"
   },
   "source": [
    "<!-- <script src=\"https://cdn.plot.ly/plotly-latest.min.js\"></script> -->"
   ]
  },
  {
   "cell_type": "markdown",
   "metadata": {},
   "source": [
    "<script src=\"https://cdn.plot.ly/plotly-latest.min.js\"></script>"
   ]
  },
  {
   "cell_type": "markdown",
   "metadata": {},
   "source": [
    "\n",
    "\n",
    "<div style=\"color:blue;font-style:italic\">07.03.2022 - 11.03.2022</div>\n"
   ]
  },
  {
   "cell_type": "markdown",
   "metadata": {},
   "source": [
    "<div style=\"background-color:rgba(256, 76, 76,0.4)\",height=\"200\">\n",
    "\n",
    "<br>\n",
    "\n",
    "<H4>Abstract</H4>\n",
    "\n",
    "<br>\n",
    "\n",
    "</div>"
   ]
  },
  {
   "cell_type": "markdown",
   "metadata": {},
   "source": [
    "---\n",
    "\n",
    "A possible approach to a bayesian model for LC-IMS-MS precursor features is a general linear model (GLM). In this week a GLM prototype was introduced into pystoms and a 3D visualization with python library plotly was implemented.\n",
    "\n",
    "---"
   ]
  },
  {
   "cell_type": "markdown",
   "metadata": {},
   "source": [
    "<div style=\"background-color:rgba(256, 76, 76,0.4)\",height=\"200\">\n",
    "<br>\n",
    "<H4>Introduction</H4>\n",
    "<br>\n",
    "</div>"
   ]
  },
  {
   "cell_type": "markdown",
   "metadata": {},
   "source": [
    "---\n",
    "\n",
    "\n",
    "\n",
    "\n",
    "\n",
    "\n",
    "---"
   ]
  },
  {
   "cell_type": "markdown",
   "metadata": {},
   "source": [
    "<div style=\"background-color:rgba(256, 76, 76,0.4)\",height=\"200\">\n",
    "<br>\n",
    "<H4>Methods and Material</H4>\n",
    "<br>\n",
    "</div>"
   ]
  },
  {
   "cell_type": "markdown",
   "metadata": {},
   "source": [
    "---\n",
    "\n",
    "\n",
    "```python3\n",
    "\n",
    "```\n",
    "---"
   ]
  },
  {
   "cell_type": "markdown",
   "metadata": {},
   "source": [
    "<!-- <div style=\"background-color:white\">\n",
    "\n",
    "<img src=\"data/modelGraphviz.svg\" >\n",
    "\n",
    "</div>\n",
    "<figcaption style=\"font-weight:bold;font-size:small\">\n",
    "Fig 1: Visualization of artificial Model spanning 10 submodels each receiving an independent dataset of normally distributed data of unknown mean. Visualization was created with python-graphviz <cite data-cite=\"graphviz\"></cite>.\n",
    "</figcaption> --> "
   ]
  },
  {
   "cell_type": "markdown",
   "metadata": {},
   "source": [
    "<div style=\"background-color:rgba(256, 76, 76,0.4)\",height=\"200\">\n",
    "<br>\n",
    "<H4>Results</H4>\n",
    "<br>\n",
    "</div>"
   ]
  },
  {
   "cell_type": "markdown",
   "metadata": {},
   "source": [
    "---\n"
   ]
  },
  {
   "cell_type": "code",
   "execution_count": 1,
   "metadata": {},
   "outputs": [
    {
     "data": {
      "text/html": [
       "<div>\n",
       "<style scoped>\n",
       "    .dataframe tbody tr th:only-of-type {\n",
       "        vertical-align: middle;\n",
       "    }\n",
       "\n",
       "    .dataframe tbody tr th {\n",
       "        vertical-align: top;\n",
       "    }\n",
       "\n",
       "    .dataframe thead th {\n",
       "        text-align: right;\n",
       "    }\n",
       "</style>\n",
       "<table border=\"1\" class=\"dataframe\">\n",
       "  <thead>\n",
       "    <tr style=\"text-align: right;\">\n",
       "      <th></th>\n",
       "      <th>Id</th>\n",
       "      <th>LargestPeakMz</th>\n",
       "      <th>AverageMz</th>\n",
       "      <th>MonoisotopicMz</th>\n",
       "      <th>Charge</th>\n",
       "      <th>ScanNumber</th>\n",
       "      <th>Intensity</th>\n",
       "      <th>Parent</th>\n",
       "    </tr>\n",
       "  </thead>\n",
       "  <tbody>\n",
       "    <tr>\n",
       "      <th>159750</th>\n",
       "      <td>159751</td>\n",
       "      <td>622.025454</td>\n",
       "      <td>622.025454</td>\n",
       "      <td>NaN</td>\n",
       "      <td>NaN</td>\n",
       "      <td>580.739867</td>\n",
       "      <td>3415.0</td>\n",
       "      <td>63813</td>\n",
       "    </tr>\n",
       "    <tr>\n",
       "      <th>159751</th>\n",
       "      <td>159752</td>\n",
       "      <td>1221.987656</td>\n",
       "      <td>1222.591240</td>\n",
       "      <td>1221.987656</td>\n",
       "      <td>1.0</td>\n",
       "      <td>226.036453</td>\n",
       "      <td>3825.0</td>\n",
       "      <td>63842</td>\n",
       "    </tr>\n",
       "    <tr>\n",
       "      <th>159752</th>\n",
       "      <td>159753</td>\n",
       "      <td>622.028638</td>\n",
       "      <td>622.283194</td>\n",
       "      <td>622.028638</td>\n",
       "      <td>1.0</td>\n",
       "      <td>581.280292</td>\n",
       "      <td>2905.0</td>\n",
       "      <td>63842</td>\n",
       "    </tr>\n",
       "    <tr>\n",
       "      <th>159753</th>\n",
       "      <td>159754</td>\n",
       "      <td>922.008974</td>\n",
       "      <td>922.489243</td>\n",
       "      <td>922.008974</td>\n",
       "      <td>1.0</td>\n",
       "      <td>402.424060</td>\n",
       "      <td>2870.0</td>\n",
       "      <td>63890</td>\n",
       "    </tr>\n",
       "    <tr>\n",
       "      <th>159754</th>\n",
       "      <td>159755</td>\n",
       "      <td>1221.989765</td>\n",
       "      <td>1222.593349</td>\n",
       "      <td>1221.989765</td>\n",
       "      <td>1.0</td>\n",
       "      <td>227.225000</td>\n",
       "      <td>2574.0</td>\n",
       "      <td>63993</td>\n",
       "    </tr>\n",
       "  </tbody>\n",
       "</table>\n",
       "</div>"
      ],
      "text/plain": [
       "            Id  LargestPeakMz    AverageMz  MonoisotopicMz  Charge  \\\n",
       "159750  159751     622.025454   622.025454             NaN     NaN   \n",
       "159751  159752    1221.987656  1222.591240     1221.987656     1.0   \n",
       "159752  159753     622.028638   622.283194      622.028638     1.0   \n",
       "159753  159754     922.008974   922.489243      922.008974     1.0   \n",
       "159754  159755    1221.989765  1222.593349     1221.989765     1.0   \n",
       "\n",
       "        ScanNumber  Intensity  Parent  \n",
       "159750  580.739867     3415.0   63813  \n",
       "159751  226.036453     3825.0   63842  \n",
       "159752  581.280292     2905.0   63842  \n",
       "159753  402.424060     2870.0   63890  \n",
       "159754  227.225000     2574.0   63993  "
      ]
     },
     "execution_count": 1,
     "metadata": {},
     "output_type": "execute_result"
    }
   ],
   "source": [
    "from pyproteolizard.data import PyTimsDataHandle\n",
    "from pystoms.feature_loader_dda import FeatureLoaderDDA\n",
    "from pystoms.modelsGLM import ModelGLM3D\n",
    "import theano\n",
    "import pymc as pm\n",
    "import numpy as np\n",
    "import plotly.io as pio\n",
    "import arviz as az\n",
    "pio.renderers.default = \"sphinx_gallery\"\n",
    "# get raw data via proteolizard\n",
    "data_handle = PyTimsDataHandle('/home/tim/Master/MassSpecDaten/M210115_001_Slot1-1_1_850.d/')\n",
    "# precursors are listed in precursor table\n",
    "precursor_table = data_handle.get_selected_precursors()\n",
    "precursor_table.tail()\n",
    "\n"
   ]
  },
  {
   "cell_type": "code",
   "execution_count": 2,
   "metadata": {},
   "outputs": [
    {
     "data": {
      "image/png": "[encoded data removed]",
      "text/plain": [
       "<Figure size 432x288 with 1 Axes>"
      ]
     },
     "metadata": {
      "needs_background": "light"
     },
     "output_type": "display_data"
    },
    {
     "data": {
      "image/png": "[encoded data removed]",
      "text/plain": [
       "<Figure size 432x288 with 1 Axes>"
      ]
     },
     "metadata": {
      "needs_background": "light"
     },
     "output_type": "display_data"
    },
    {
     "data": {
      "image/png": "[encoded data removed]",
      "text/plain": [
       "<Figure size 432x288 with 1 Axes>"
      ]
     },
     "metadata": {
      "needs_background": "light"
     },
     "output_type": "display_data"
    }
   ],
   "source": [
    "# ectract some features with random ids\n",
    "features = [200,1900,230]\n",
    "\n",
    "feature_data = []\n",
    "charges = []\n",
    "\n",
    "for feature_id in features:\n",
    "    feature = FeatureLoaderDDA(data_handle,feature_id)\n",
    "    # estimate feature hull boundaries with averagine model for isotopic pattern and gaussian model for IMS\n",
    "    data_tmp = feature.load_hull_data_3d(ims_model=\"gaussian\",plot_feature=True)\n",
    "    feature_data.append(data_tmp)\n",
    "    charges.append(feature.charge)\n",
    "    \n",
    "\n"
   ]
  },
  {
   "cell_type": "code",
   "execution_count": 4,
   "metadata": {},
   "outputs": [
    {
     "name": "stderr",
     "output_type": "stream",
     "text": [
      "WARNING (aesara.tensor.basic_opt): Optimization Warning: The Op gamma does not provide a C implementation. As well as being potentially slow, this also disables loop fusion.\n"
     ]
    },
    {
     "data": {
      "text/plain": [
       "(6,)"
      ]
     },
     "execution_count": 4,
     "metadata": {},
     "output_type": "execute_result"
    }
   ],
   "source": [
    "myModel.PI.eval().shape"
   ]
  },
  {
   "cell_type": "code",
   "execution_count": 3,
   "metadata": {},
   "outputs": [
    {
     "name": "stderr",
     "output_type": "stream",
     "text": [
      "/home/tim/miniconda3/envs/proteolizard/lib/python3.8/site-packages/pymc/data.py:647: FutureWarning:\n",
      "\n",
      "The `mutable` kwarg was not specified. Currently it defaults to `pm.Data(mutable=True)`, which is equivalent to using `pm.MutableData()`. In v4.1.0 the default will change to `pm.Data(mutable=False)`, equivalent to `pm.ConstantData`. Set `pm.Data(..., mutable=False/True)`, or use `pm.ConstantData`/`pm.MutableData`.\n",
      "\n"
     ]
    }
   ],
   "source": [
    "# first feature data is needed to declare the model\n",
    " \n",
    "s = feature_data[0][\"Scan\"].values\n",
    "m = feature_data[0][\"Mz\"].values\n",
    "i = feature_data[0][\"Intensity\"].values\n",
    "z = charges[0]\n",
    "\n",
    "myModel = ModelGLM3D(s.size,6,z,i,s,m,\"\",None)"
   ]
  },
  {
   "cell_type": "code",
   "execution_count": 4,
   "metadata": {},
   "outputs": [
    {
     "name": "stderr",
     "output_type": "stream",
     "text": [
      "WARNING (aesara.tensor.basic_opt): Optimization Warning: The Op gamma does not provide a C implementation. As well as being potentially slow, this also disables loop fusion.\n",
      "Multiprocess sampling (4 chains in 4 jobs)\n",
      "NUTS: [I_t, I_s, MS_mz, MS_s, alpha, me]\n"
     ]
    },
    {
     "data": {
      "text/html": [
       "\n",
       "    <div>\n",
       "        <style>\n",
       "            /* Turns off some styling */\n",
       "            progress {\n",
       "                /* gets rid of default border in Firefox and Opera. */\n",
       "                border: none;\n",
       "                /* Needs to be in here for Safari polyfill so background images work as expected. */\n",
       "                background-size: auto;\n",
       "            }\n",
       "            .progress-bar-interrupted, .progress-bar-interrupted::-webkit-progress-bar {\n",
       "                background: #F44336;\n",
       "            }\n",
       "        </style>\n",
       "      <progress value='8000' class='' max='8000' style='width:300px; height:20px; vertical-align: middle;'></progress>\n",
       "      100.00% [8000/8000 00:08<00:00 Sampling 4 chains, 2 divergences]\n",
       "    </div>\n",
       "    "
      ],
      "text/plain": [
       "<IPython.core.display.HTML object>"
      ]
     },
     "metadata": {},
     "output_type": "display_data"
    },
    {
     "name": "stderr",
     "output_type": "stream",
     "text": [
      "Sampling 4 chains for 1_000 tune and 1_000 draw iterations (4_000 + 4_000 draws total) took 9 seconds.\n",
      "/home/tim/miniconda3/envs/proteolizard/lib/python3.8/site-packages/pymc/backends/arviz.py:58: UserWarning:\n",
      "\n",
      "Could not extract data from symbolic observation obs\n",
      "\n",
      "There was 1 divergence after tuning. Increase `target_accept` or reparameterize.\n",
      "There was 1 divergence after tuning. Increase `target_accept` or reparameterize.\n",
      "Multiprocess sampling (4 chains in 4 jobs)\n",
      "NUTS: [I_t, I_s, MS_mz, MS_s, alpha, me]\n"
     ]
    },
    {
     "data": {
      "text/html": [
       "\n",
       "    <div>\n",
       "        <style>\n",
       "            /* Turns off some styling */\n",
       "            progress {\n",
       "                /* gets rid of default border in Firefox and Opera. */\n",
       "                border: none;\n",
       "                /* Needs to be in here for Safari polyfill so background images work as expected. */\n",
       "                background-size: auto;\n",
       "            }\n",
       "            .progress-bar-interrupted, .progress-bar-interrupted::-webkit-progress-bar {\n",
       "                background: #F44336;\n",
       "            }\n",
       "        </style>\n",
       "      <progress value='8000' class='' max='8000' style='width:300px; height:20px; vertical-align: middle;'></progress>\n",
       "      100.00% [8000/8000 00:06<00:00 Sampling 4 chains, 0 divergences]\n",
       "    </div>\n",
       "    "
      ],
      "text/plain": [
       "<IPython.core.display.HTML object>"
      ]
     },
     "metadata": {},
     "output_type": "display_data"
    },
    {
     "name": "stderr",
     "output_type": "stream",
     "text": [
      "Sampling 4 chains for 1_000 tune and 1_000 draw iterations (4_000 + 4_000 draws total) took 7 seconds.\n",
      "/home/tim/miniconda3/envs/proteolizard/lib/python3.8/site-packages/pymc/backends/arviz.py:58: UserWarning:\n",
      "\n",
      "Could not extract data from symbolic observation obs\n",
      "\n",
      "Multiprocess sampling (4 chains in 4 jobs)\n",
      "NUTS: [I_t, I_s, MS_mz, MS_s, alpha, me]\n"
     ]
    },
    {
     "data": {
      "text/html": [
       "\n",
       "    <div>\n",
       "        <style>\n",
       "            /* Turns off some styling */\n",
       "            progress {\n",
       "                /* gets rid of default border in Firefox and Opera. */\n",
       "                border: none;\n",
       "                /* Needs to be in here for Safari polyfill so background images work as expected. */\n",
       "                background-size: auto;\n",
       "            }\n",
       "            .progress-bar-interrupted, .progress-bar-interrupted::-webkit-progress-bar {\n",
       "                background: #F44336;\n",
       "            }\n",
       "        </style>\n",
       "      <progress value='8000' class='' max='8000' style='width:300px; height:20px; vertical-align: middle;'></progress>\n",
       "      100.00% [8000/8000 00:06<00:00 Sampling 4 chains, 1 divergences]\n",
       "    </div>\n",
       "    "
      ],
      "text/plain": [
       "<IPython.core.display.HTML object>"
      ]
     },
     "metadata": {},
     "output_type": "display_data"
    },
    {
     "name": "stderr",
     "output_type": "stream",
     "text": [
      "Sampling 4 chains for 1_000 tune and 1_000 draw iterations (4_000 + 4_000 draws total) took 7 seconds.\n",
      "/home/tim/miniconda3/envs/proteolizard/lib/python3.8/site-packages/pymc/backends/arviz.py:58: UserWarning:\n",
      "\n",
      "Could not extract data from symbolic observation obs\n",
      "\n",
      "There was 1 divergence after tuning. Increase `target_accept` or reparameterize.\n"
     ]
    }
   ],
   "source": [
    "traces = []\n",
    "for z,feature in zip(charges,feature_data):\n",
    "  scans = feature[\"Scan\"].values\n",
    "  mzs = feature[\"Mz\"].values\n",
    "  intensities = feature[\"Intensity\"].values\n",
    "  with myModel as model:\n",
    "    # set data with current feature data\n",
    "    pm.set_data({\"charge\":z,\n",
    "                 \"scan\":scans,\n",
    "                 \"intensity\":intensities,\n",
    "                 \"mz\":np.tile(mzs,(6,1)).T,\n",
    "                 \"peak_num\":6,\n",
    "                 \"num_observed\":scans.size # awful but mzs currently needed as column\n",
    "    })\n",
    "    # evalaution is driver method for pm.sample and plotting,\n",
    "    # if resample not true, model would not sample if it was \n",
    "    # already fitted\n",
    "    model.evaluation(return_inferencedata = True)\n",
    "    traces.append(model.idata)"
   ]
  },
  {
   "cell_type": "code",
   "execution_count": 15,
   "metadata": {},
   "outputs": [
    {
     "data": {
      "text/plain": [
       "(73,)"
      ]
     },
     "execution_count": 15,
     "metadata": {},
     "output_type": "execute_result"
    }
   ],
   "source": [
    "myModel.pi2.eval().shape"
   ]
  },
  {
   "cell_type": "code",
   "execution_count": null,
   "metadata": {},
   "outputs": [],
   "source": [
    "with myModel as model:\n",
    "  pm.set_data({\"charge\":z,\n",
    "                 \"scan\":scans[:10],\n",
    "                 \"intensity\":intensities[:10],\n",
    "                 \"mz\":np.tile(mzs[:10],(6,1)).T,\n",
    "                 \"peak_num\":6,\n",
    "                 \"num_observed\":scans[:10].size # awful but mzs currently needed as column\n",
    "    })"
   ]
  },
  {
   "cell_type": "code",
   "execution_count": null,
   "metadata": {},
   "outputs": [],
   "source": [
    "with myModel as model:\n",
    "  ppc = pm.sample_posterior_predictive(traces[0])"
   ]
  },
  {
   "cell_type": "code",
   "execution_count": null,
   "metadata": {},
   "outputs": [],
   "source": [
    "test_x-test_y"
   ]
  },
  {
   "cell_type": "code",
   "execution_count": null,
   "metadata": {},
   "outputs": [],
   "source": [
    "traces[1+].constant_data"
   ]
  },
  {
   "cell_type": "code",
   "execution_count": null,
   "metadata": {},
   "outputs": [],
   "source": [
    "with myModel as model:\n",
    "  pm.set_data({\"charge\":z,\n",
    "                 \"scan\":scans[:5],\n",
    "                 \"intensity\":intensities[:5],\n",
    "                 \"mz\":np.reshape(mzs[:5],(mzs[:5].size,1)), # awful but mzs currently needed as column\n",
    "    })\n",
    "  ppc = pm.sample()"
   ]
  },
  {
   "cell_type": "code",
   "execution_count": null,
   "metadata": {},
   "outputs": [],
   "source": [
    "ppc[\"alpha\"].shape"
   ]
  },
  {
   "cell_type": "code",
   "execution_count": null,
   "metadata": {},
   "outputs": [],
   "source": [
    "test_i_d = az.from_pymc3(posterior_predictive =ppc,model=myModel)\n",
    "#del test_i_d.observed_data\n",
    "test_i_d"
   ]
  },
  {
   "cell_type": "code",
   "execution_count": null,
   "metadata": {},
   "outputs": [],
   "source": [
    "import arviz as az\n",
    "with myModel as model:\n",
    "  az.concat(traces[0], az.from_pymc3(posterior_predictive=ppc).posterior_predictive, inplace=True)"
   ]
  },
  {
   "cell_type": "markdown",
   "metadata": {},
   "source": [
    "---"
   ]
  },
  {
   "cell_type": "markdown",
   "metadata": {},
   "source": [
    "<div style=\"background-color:rgba(256, 76, 76,0.4)\",height=\"200\">\n",
    "<br>\n",
    "<H4>Conclusion and Outlook</H4>\n",
    "<br>\n",
    "</div>\n"
   ]
  },
  {
   "cell_type": "markdown",
   "metadata": {},
   "source": [
    "---\n",
    "\n",
    "\n",
    "\n",
    "---"
   ]
  },
  {
   "cell_type": "markdown",
   "metadata": {},
   "source": [
    "<div style=\"background-color:rgba(256, 76, 76,0.4)\",height=\"200\">\n",
    "<br>\n",
    "<H4>References</H4>\n",
    "<br>\n",
    "</div>\n"
   ]
  },
  {
   "cell_type": "markdown",
   "metadata": {},
   "source": [
    "---"
   ]
  },
  {
   "cell_type": "raw",
   "metadata": {
    "raw_mimetype": "text/restructuredtext"
   },
   "source": [
    ".. bibliography:: references10.bib\n",
    "    :style:"
   ]
  },
  {
   "cell_type": "markdown",
   "metadata": {},
   "source": [
    "---"
   ]
  },
  {
   "cell_type": "markdown",
   "metadata": {},
   "source": [
    "<div style=\"background-color:rgba(256, 76, 76,0.4)\",height=\"200\">\n",
    "<br>\n",
    "<H4>To Do</H4>\n",
    "<br>\n",
    "</div>\n"
   ]
  },
  {
   "cell_type": "markdown",
   "metadata": {},
   "source": [
    "---\n",
    "\n",
    "Next Steps:\n",
    "\n",
    "1. Parallelized GLM model\n",
    "2. Model Evaluation for GLM in pystoms\n",
    "3. Feature Manager -> handling many features at once\n",
    "4. Test Model on GPU\n",
    "\n",
    "5. CPU and GPU breakdown for bigger models in pymc4\n",
    "\n",
    "\n",
    "\n",
    "\n",
    "\n",
    "\n",
    "\n",
    "---"
   ]
  }
 ],
 "metadata": {
  "celltoolbar": "Raw Cell Format",
  "interpreter": {
   "hash": "8ef36075318212a951d729eacf3af4e7fff5153712d0068dd271c1775548f24c"
  },
  "kernelspec": {
   "display_name": "Python 3 (ipykernel)",
   "language": "python",
   "name": "python3"
  },
  "language_info": {
   "codemirror_mode": {
    "name": "ipython",
    "version": 3
   },
   "file_extension": ".py",
   "mimetype": "text/x-python",
   "name": "python",
   "nbconvert_exporter": "python",
   "pygments_lexer": "ipython3",
   "version": "3.8.12"
  }
 },
 "nbformat": 4,
 "nbformat_minor": 2
}
